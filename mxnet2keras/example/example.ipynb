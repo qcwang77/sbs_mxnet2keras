{
 "cells": [
  {
   "cell_type": "markdown",
   "metadata": {},
   "source": [
    "## Example -- cn-ocr model visualization and conversion"
   ]
  },
  {
   "cell_type": "markdown",
   "metadata": {},
   "source": [
    "##### In this example, we visualize and convert a pre-trained Mxnet model to keras using the sbs_mxnet2keras package. The model file is from cn-ocr https://github.com/breezedeus/cnocr, can be accessed in the data folder."
   ]
  },
  {
   "cell_type": "markdown",
   "metadata": {},
   "source": [
    "##### Load the package"
   ]
  },
  {
   "cell_type": "code",
   "execution_count": 1,
   "metadata": {},
   "outputs": [],
   "source": [
    "import os.path\n",
    "import mxnet2keras\n",
    "from mxnet2keras.Weight_Converter import WeightConvert\n",
    "from mxnet2keras.Model_Summary import ModelSummary"
   ]
  },
  {
   "cell_type": "markdown",
   "metadata": {},
   "source": [
    "##### Creating visualization plot by Model_Summary.plot()"
   ]
  },
  {
   "cell_type": "code",
   "execution_count": 11,
   "metadata": {},
   "outputs": [
    {
     "name": "stdout",
     "output_type": "stream",
     "text": [
      "graph.pdf can be accsssed within current directory\n"
     ]
    }
   ],
   "source": [
    "data_path = os.path.join(mxnet2keras.__path__[0], 'data')\n",
    "summary_ocr_model = ModelSummary(os.path.join(data_path, 'cnocr-v1.2.0-conv-lite-fc'), 25) # input: model prefix + epoch\n",
    "summary_ocr_model.plot('pdf') #input: type, can also be change to 'png'\n",
    "# visualization can be accessed in the current directory: graph.pd"
   ]
  },
  {
   "cell_type": "markdown",
   "metadata": {},
   "source": [
    "##### Create summary of the model by Model_Summary.summary()"
   ]
  },
  {
   "cell_type": "code",
   "execution_count": 12,
   "metadata": {},
   "outputs": [
    {
     "name": "stdout",
     "output_type": "stream",
     "text": [
      "________________________________________________________________________________________________________________________\n",
      "Layer (type)                                        Output Shape            Param #     Previous Layer                  \n",
      "========================================================================================================================\n",
      "data(null)                                                                  0                                           \n",
      "________________________________________________________________________________________________________________________\n",
      "conv-0(Convolution)                                                         64          data                            \n",
      "________________________________________________________________________________________________________________________\n",
      "batchnorm-0(BatchNorm)                                                      0           conv-0                          \n",
      "________________________________________________________________________________________________________________________\n",
      "leakyrelu-0(LeakyReLU)                                                      0           batchnorm-0                     \n",
      "________________________________________________________________________________________________________________________\n",
      "conv-1(Convolution)                                                         128         leakyrelu-0                     \n",
      "________________________________________________________________________________________________________________________\n",
      "batchnorm-1(BatchNorm)                                                      0           conv-1                          \n",
      "________________________________________________________________________________________________________________________\n",
      "leakyrelu-1(LeakyReLU)                                                      0           batchnorm-1                     \n",
      "________________________________________________________________________________________________________________________\n",
      "pool-0(Pooling)                                                             0           leakyrelu-1                     \n",
      "________________________________________________________________________________________________________________________\n",
      "conv-2(Convolution)                                                         256         pool-0                          \n",
      "________________________________________________________________________________________________________________________\n",
      "batchnorm-2(BatchNorm)                                                      0           conv-2                          \n",
      "________________________________________________________________________________________________________________________\n",
      "leakyrelu-2(LeakyReLU)                                                      0           batchnorm-2                     \n",
      "________________________________________________________________________________________________________________________\n",
      "conv-3(Convolution)                                                         512         leakyrelu-2                     \n",
      "________________________________________________________________________________________________________________________\n",
      "batchnorm-3(BatchNorm)                                                      0           conv-3                          \n",
      "________________________________________________________________________________________________________________________\n",
      "leakyrelu-3(LeakyReLU)                                                      0           batchnorm-3                     \n",
      "________________________________________________________________________________________________________________________\n",
      "pool-1(Pooling)                                                             0           leakyrelu-3                     \n",
      "________________________________________________________________________________________________________________________\n",
      "conv-4-1-1x1(Convolution)                                                   256         pool-1                          \n",
      "________________________________________________________________________________________________________________________\n",
      "leakyrelu-4-1(LeakyReLU)                                                    0           conv-4-1-1x1                    \n",
      "________________________________________________________________________________________________________________________\n",
      "conv-4(Convolution)                                                         256         leakyrelu-4-1                   \n",
      "________________________________________________________________________________________________________________________\n",
      "leakyrelu-4-2(LeakyReLU)                                                    0           conv-4                          \n",
      "________________________________________________________________________________________________________________________\n",
      "conv-4-2-1x1(Convolution)                                                   512         leakyrelu-4-2                   \n",
      "________________________________________________________________________________________________________________________\n",
      "batchnorm-4(BatchNorm)                                                      0           conv-4-2-1x1                    \n",
      "________________________________________________________________________________________________________________________\n",
      "leakyrelu-4(LeakyReLU)                                                      0           batchnorm-4                     \n",
      "________________________________________________________________________________________________________________________\n",
      "conv-5-1-1x1(Convolution)                                                   256         leakyrelu-4                     \n",
      "________________________________________________________________________________________________________________________\n",
      "leakyrelu-5-1(LeakyReLU)                                                    0           conv-5-1-1x1                    \n",
      "________________________________________________________________________________________________________________________\n",
      "conv-5(Convolution)                                                         256         leakyrelu-5-1                   \n",
      "________________________________________________________________________________________________________________________\n",
      "leakyrelu-5-2(LeakyReLU)                                                    0           conv-5                          \n",
      "________________________________________________________________________________________________________________________\n",
      "conv-5-2-1x1(Convolution)                                                   512         leakyrelu-5-2                   \n",
      "________________________________________________________________________________________________________________________\n",
      "batchnorm-5(BatchNorm)                                                      0           conv-5-2-1x1                    \n",
      "________________________________________________________________________________________________________________________\n",
      "leakyrelu-5(LeakyReLU)                                                      0           batchnorm-5                     \n",
      "________________________________________________________________________________________________________________________\n",
      "_plus0(elemwise_add)                                                        0           leakyrelu-5                     \n",
      "                                                                                        pool-1                          \n",
      "________________________________________________________________________________________________________________________\n",
      "pool-2(Pooling)                                                             0           _plus0                          \n",
      "________________________________________________________________________________________________________________________\n",
      "conv-6-1-1x1(Convolution)                                                   256         pool-2                          \n",
      "________________________________________________________________________________________________________________________\n",
      "leakyrelu-6-1(LeakyReLU)                                                    0           conv-6-1-1x1                    \n",
      "________________________________________________________________________________________________________________________\n",
      "conv-6(Convolution)                                                         256         leakyrelu-6-1                   \n",
      "________________________________________________________________________________________________________________________\n",
      "leakyrelu-6-2(LeakyReLU)                                                    0           conv-6                          \n",
      "________________________________________________________________________________________________________________________\n",
      "conv-6-2-1x1(Convolution)                                                   512         leakyrelu-6-2                   \n",
      "________________________________________________________________________________________________________________________\n",
      "batchnorm-6(BatchNorm)                                                      0           conv-6-2-1x1                    \n",
      "________________________________________________________________________________________________________________________\n",
      "leakyrelu-6(LeakyReLU)                                                      0           batchnorm-6                     \n",
      "________________________________________________________________________________________________________________________\n",
      "dropout0(Dropout)                                                           0           leakyrelu-6                     \n",
      "________________________________________________________________________________________________________________________\n",
      "squeeze0(squeeze)                                                           0           dropout0                        \n",
      "________________________________________________________________________________________________________________________\n",
      "transpose0(transpose)                                                       0           squeeze0                        \n",
      "________________________________________________________________________________________________________________________\n",
      "seq-fc(FullyConnected)                                                      128         transpose0                      \n",
      "________________________________________________________________________________________________________________________\n",
      "seq-relu(Activation)                                                        0           seq-fc                          \n",
      "________________________________________________________________________________________________________________________\n",
      "reshape0(Reshape)                                                           0           seq-relu                        \n",
      "________________________________________________________________________________________________________________________\n",
      "pred_fc(FullyConnected)                                                     6426        reshape0                        \n",
      "________________________________________________________________________________________________________________________\n",
      "softmaxactivation0(SoftmaxActivation)                                       0           pred_fc                         \n",
      "________________________________________________________________________________________________________________________\n",
      "makeloss1(MakeLoss)                                                         0           softmaxactivation0              \n",
      "________________________________________________________________________________________________________________________\n",
      "blockgrad0(BlockGrad)                                                       0           makeloss1                       \n",
      "________________________________________________________________________________________________________________________\n",
      "reshape1(Reshape)                                                           0           pred_fc                         \n",
      "________________________________________________________________________________________________________________________\n",
      "ctc_loss0(CTCLoss)                                                          0           reshape1                        \n",
      "________________________________________________________________________________________________________________________\n",
      "makeloss0(MakeLoss)                                                         0           ctc_loss0                       \n",
      "========================================================================================================================\n",
      "Total params: 10586\n",
      "________________________________________________________________________________________________________________________\n"
     ]
    }
   ],
   "source": [
    "summary_ocr_model.summary()"
   ]
  },
  {
   "cell_type": "markdown",
   "metadata": {},
   "source": [
    "##### Create a list of layer names by Model_Summary.get_layer_names()"
   ]
  },
  {
   "cell_type": "code",
   "execution_count": 13,
   "metadata": {},
   "outputs": [
    {
     "data": {
      "text/plain": [
       "['seq-fc',\n",
       " 'batchnorm-1',\n",
       " 'batchnorm-4',\n",
       " 'conv-5-2-1x1',\n",
       " 'batchnorm-6',\n",
       " 'conv-1',\n",
       " 'conv-3',\n",
       " 'conv-6',\n",
       " 'conv-6-2-1x1',\n",
       " 'conv-5',\n",
       " 'conv-4-1-1x1',\n",
       " 'batchnorm-0',\n",
       " 'batchnorm-5',\n",
       " 'conv-0',\n",
       " 'batchnorm-2',\n",
       " 'conv-5-1-1x1',\n",
       " 'conv-2',\n",
       " 'conv-4',\n",
       " 'conv-6-1-1x1',\n",
       " 'pred_fc',\n",
       " 'batchnorm-3',\n",
       " 'conv-4-2-1x1']"
      ]
     },
     "execution_count": 13,
     "metadata": {},
     "output_type": "execute_result"
    }
   ],
   "source": [
    "summary_ocr_model.get_layer_names()"
   ]
  },
  {
   "cell_type": "markdown",
   "metadata": {},
   "source": [
    "##### Create a list of layer names filtered by layer types by Model_Summary.filtered_layer_names()"
   ]
  },
  {
   "cell_type": "code",
   "execution_count": 14,
   "metadata": {},
   "outputs": [
    {
     "data": {
      "text/plain": [
       "['conv-5-2-1x1',\n",
       " 'conv-1',\n",
       " 'conv-3',\n",
       " 'conv-6',\n",
       " 'conv-6-2-1x1',\n",
       " 'conv-5',\n",
       " 'conv-4-1-1x1',\n",
       " 'conv-0',\n",
       " 'conv-5-1-1x1',\n",
       " 'conv-2',\n",
       " 'conv-4',\n",
       " 'conv-6-1-1x1',\n",
       " 'conv-4-2-1x1']"
      ]
     },
     "execution_count": 14,
     "metadata": {},
     "output_type": "execute_result"
    }
   ],
   "source": [
    "summary_ocr_model.filtered_layer_names('convolution')"
   ]
  },
  {
   "cell_type": "code",
   "execution_count": 15,
   "metadata": {},
   "outputs": [
    {
     "data": {
      "text/plain": [
       "['conv-5-2-1x1',\n",
       " 'conv-1',\n",
       " 'conv-3',\n",
       " 'conv-6',\n",
       " 'conv-6-2-1x1',\n",
       " 'conv-5',\n",
       " 'conv-4-1-1x1',\n",
       " 'conv-0',\n",
       " 'conv-5-1-1x1',\n",
       " 'conv-2',\n",
       " 'conv-4',\n",
       " 'conv-6-1-1x1',\n",
       " 'conv-4-2-1x1']"
      ]
     },
     "execution_count": 15,
     "metadata": {},
     "output_type": "execute_result"
    }
   ],
   "source": [
    "summary_ocr_model.filtered_layer_names('conv') # either 'conv' or 'convolution' could get to the result"
   ]
  },
  {
   "cell_type": "code",
   "execution_count": 16,
   "metadata": {},
   "outputs": [
    {
     "data": {
      "text/plain": [
       "['batchnorm-1',\n",
       " 'batchnorm-4',\n",
       " 'batchnorm-6',\n",
       " 'batchnorm-0',\n",
       " 'batchnorm-5',\n",
       " 'batchnorm-2',\n",
       " 'batchnorm-3']"
      ]
     },
     "execution_count": 16,
     "metadata": {},
     "output_type": "execute_result"
    }
   ],
   "source": [
    "summary_ocr_model.filtered_layer_names('batchnorm') # currently support for: fully connected, batchnorm, convolution, and reLu"
   ]
  },
  {
   "cell_type": "markdown",
   "metadata": {},
   "source": [
    "#### Define keras model Structure"
   ]
  },
  {
   "cell_type": "code",
   "execution_count": 17,
   "metadata": {},
   "outputs": [],
   "source": [
    "# with the help of the visualizations, users can mannually define the keras net structure\n",
    "# here, I mannually defined the model structure in keras based on visualizations above.\n",
    "from mxnet2keras.tests.build_net_for_test import build_net\n",
    "keras_model = build_net()"
   ]
  },
  {
   "cell_type": "markdown",
   "metadata": {},
   "source": [
    "#### Laoding Weight with Weight_Converter"
   ]
  },
  {
   "cell_type": "code",
   "execution_count": 18,
   "metadata": {},
   "outputs": [],
   "source": [
    "loadweight_ocr_model = WeightConvert(os.path.join(data_path, 'cnocr-v1.2.0-conv-lite-fc'), 25, keras_model) #input: model_prefix, epoch, keras model input"
   ]
  },
  {
   "cell_type": "markdown",
   "metadata": {},
   "source": [
    "#### Loading single layer Weight with load_single_weight()"
   ]
  },
  {
   "cell_type": "code",
   "execution_count": 19,
   "metadata": {},
   "outputs": [],
   "source": [
    "loadweight_ocr_model.load_single_weight('conv-1') # input: layer name"
   ]
  },
  {
   "cell_type": "markdown",
   "metadata": {},
   "source": [
    "#### Check if the weight loaded correctly"
   ]
  },
  {
   "cell_type": "code",
   "execution_count": 22,
   "metadata": {},
   "outputs": [
    {
     "name": "stdout",
     "output_type": "stream",
     "text": [
      "0.0\n"
     ]
    }
   ],
   "source": [
    "weight_mx = loadweight_ocr_model.arg_params['conv-1' + \"_bias\"].asnumpy()\n",
    "layer = loadweight_ocr_model.keras_net.get_layer('conv-1')\n",
    "weight_keras = layer.get_weights()[1]\n",
    "print(max(weight_keras-weight_mx))"
   ]
  },
  {
   "cell_type": "markdown",
   "metadata": {},
   "source": [
    "#### Loading weights to a type of layers with load_type_weight()"
   ]
  },
  {
   "cell_type": "code",
   "execution_count": 23,
   "metadata": {},
   "outputs": [],
   "source": [
    "loadweight_ocr_model.load_type_weight('convolution') # input: layer name"
   ]
  },
  {
   "cell_type": "code",
   "execution_count": 24,
   "metadata": {},
   "outputs": [
    {
     "name": "stdout",
     "output_type": "stream",
     "text": [
      "0.0\n"
     ]
    }
   ],
   "source": [
    "weight_mx = loadweight_ocr_model.arg_params['conv-2' + \"_bias\"].asnumpy()\n",
    "layer = loadweight_ocr_model.keras_net.get_layer('conv-2')\n",
    "weight_keras = layer.get_weights()[1]\n",
    "print(max(weight_keras-weight_mx))"
   ]
  },
  {
   "cell_type": "markdown",
   "metadata": {},
   "source": [
    "#### Loading weights to a all layers"
   ]
  },
  {
   "cell_type": "code",
   "execution_count": 25,
   "metadata": {},
   "outputs": [],
   "source": [
    "loadweight_ocr_model.load_all_weight()"
   ]
  },
  {
   "cell_type": "code",
   "execution_count": 27,
   "metadata": {},
   "outputs": [
    {
     "name": "stdout",
     "output_type": "stream",
     "text": [
      "0.0\n",
      "0.0\n"
     ]
    }
   ],
   "source": [
    "gamma_mx = loadweight_ocr_model.arg_params['batchnorm-0' +\"_gamma\"].asnumpy()\n",
    "beta_mx = loadweight_ocr_model.arg_params['batchnorm-0' + \"_beta\"].asnumpy()\n",
    "layer = loadweight_ocr_model.keras_net.get_layer('batchnorm-0')\n",
    "gamma_keras, beta_keras = layer.get_weights()[:2]\n",
    "print(max(gamma_keras-gamma_mx))\n",
    "print(max(beta_keras-beta_mx))"
   ]
  }
 ],
 "metadata": {
  "interpreter": {
   "hash": "018a121869553c5e269efaba4422fcc76c2b4a130064a250f79b543fc22a1ae3"
  },
  "kernelspec": {
   "display_name": "Python 3.8.12 ('test_env')",
   "language": "python",
   "name": "python3"
  },
  "language_info": {
   "codemirror_mode": {
    "name": "ipython",
    "version": 3
   },
   "file_extension": ".py",
   "mimetype": "text/x-python",
   "name": "python",
   "nbconvert_exporter": "python",
   "pygments_lexer": "ipython3",
   "version": "3.8.3"
  },
  "orig_nbformat": 4
 },
 "nbformat": 4,
 "nbformat_minor": 2
}
